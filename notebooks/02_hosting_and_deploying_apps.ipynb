{
 "cells": [
  {
   "cell_type": "markdown",
   "metadata": {},
   "source": [
    "# Building and deploying Python web applications"
   ]
  },
  {
   "cell_type": "code",
   "execution_count": null,
   "metadata": {},
   "outputs": [],
   "source": []
  },
  {
   "cell_type": "markdown",
   "metadata": {},
   "source": [
    "### General view of web app deployment"
   ]
  },
  {
   "cell_type": "markdown",
   "metadata": {},
   "source": [
    "- We always start with a use-case\n",
    "- Depending on the use-case and other factors (discussed below), we choose the right tool to build the app\n",
    "- Apps are deployed to servers (local or remote)\n",
    "- There could be an app store (portfolio or gallery) that consolidates URLs of all the other apps. This may be deployed to the same servers as the other apps."
   ]
  },
  {
   "cell_type": "markdown",
   "metadata": {},
   "source": [
    "![deployment1](https://storage.googleapis.com/eyes_in_the_sky/deployment_1.svg)"
   ]
  },
  {
   "cell_type": "markdown",
   "metadata": {},
   "source": [
    "#### For this tutorial\n",
    "\n",
    "- HuggingFace and Google Cloud to host our apps\n",
    "- Quarto as the app store\n",
    "\n",
    "![deployment_2](https://storage.googleapis.com/eyes_in_the_sky/deployment_2.svg)"
   ]
  },
  {
   "cell_type": "code",
   "execution_count": null,
   "metadata": {},
   "outputs": [],
   "source": []
  },
  {
   "cell_type": "markdown",
   "metadata": {},
   "source": [
    "## Building a web app"
   ]
  },
  {
   "cell_type": "markdown",
   "metadata": {},
   "source": [
    "Building a Python web app involves answering these \"**Why**\", \"**What**\" and \"**How**\" questions:\n",
    "\n",
    "- What's my objective? (**Why?**)\n",
    "  -   For example,\n",
    "      - Share an idea with my team or community\n",
    "      - Showcase what my code can do\n",
    "      - Wireframe a new feature\n",
    "      - Show off dvertise my abilities on my website and resume\n",
    "- What do I want to communicate? (**What?**)\n",
    "  - For example,\n",
    "    - The impact of rising global temperatures on drinking water quality\n",
    "    - My grasp of LLM concepts\n",
    "    - Track data quality or SW error rates\n",
    "- Which tool stack should I use (**How?**)\n",
    "  - What's the expected turnaround time? (ease of development)\n",
    "  - What's the available UI component library? (capability)\n",
    "  - How many users? (scalability)\n",
    "  - How frequently will we alter the scope? (maintenance)\n",
    "  - How will people access it? (ease of deployment)"
   ]
  },
  {
   "cell_type": "markdown",
   "metadata": {},
   "source": [
    "# Python Dashboard Framework Scoring Analysis\n",
    "\n",
    "## Framework Performance Matrix\n",
    "\n",
    "| Framework | Development Speed | UI Components | User Scalability | Maintenance | Deployment | Overall Score |\n",
    "|-----------|------------------|---------------|------------------|-------------|------------|---------------|\n",
    "| **Streamlit** | 7 | 8 | 6 | 7 | 9 | **7.4** |\n",
    "| **Gradio** | 8 | 8 | 7 | 7 | 9 | **7.8** |\n",
    "| **Plotly Dash** | 5 | 10 | 9 | 8 | 9 | **8.2** |\n",
    "| **Python Shiny** | 6 | 7.5 | 8 | 8 | 9 | **7.7** |\n",
    "| **Jupyter Widgets/Voila** | 9 | 9 | 5 | 5| 7 | **7.0** |\n",
    "| **Fast Dash** | 10 | 10 | 5 | 6 | 9 | **8.0** |"
   ]
  },
  {
   "cell_type": "markdown",
   "metadata": {},
   "source": [
    "## Deploying an app"
   ]
  },
  {
   "cell_type": "markdown",
   "metadata": {},
   "source": [
    "- Package your app code, data, configuration\n",
    "- Send to a server (local or remote)\n",
    "- Configure so users can access"
   ]
  },
  {
   "cell_type": "markdown",
   "metadata": {},
   "source": [
    "![image](https://spaceflightnow.com/wp-content/uploads/2020/03/49702731826_11bbd0609f_k.jpg)"
   ]
  },
  {
   "cell_type": "markdown",
   "metadata": {},
   "source": [
    "There are many ways your app data can be sent to a server, dependencies installed and the execution script run. A universal way to deploy is to containerize the application with Docker and then deploy it to an endpoint."
   ]
  },
  {
   "cell_type": "markdown",
   "metadata": {},
   "source": [
    "## Docker for packaging and deployment"
   ]
  },
  {
   "cell_type": "markdown",
   "metadata": {},
   "source": [
    "Docker is an open-source platform that automates the deployment, scaling, and management of applications using containerization. Containers package an application and its dependencies together, ensuring consistency across different environments. This makes it easier to develop, ship, and run applications reliably."
   ]
  },
  {
   "cell_type": "markdown",
   "metadata": {},
   "source": [
    "- **Consistency**: Same environment across dev, staging, and production\n",
    "- **Isolation**: Dependencies don't conflict with host system\n",
    "- **Portability**: Deploy anywhere Docker runs\n",
    "- **Scalability**: Easy horizontal scaling with orchestration"
   ]
  },
  {
   "cell_type": "code",
   "execution_count": null,
   "metadata": {},
   "outputs": [],
   "source": []
  },
  {
   "cell_type": "markdown",
   "metadata": {},
   "source": [
    "## Simple steps in deploying a Python app"
   ]
  },
  {
   "cell_type": "markdown",
   "metadata": {},
   "source": [
    "1. **Local Development** → Create and test your app\n",
    "2. **Dockerization** → Package app with dependencies\n",
    "3. **Version Control** → Track changes with Git\n",
    "4. **Server Deployment** → Clone and run on remote server"
   ]
  },
  {
   "cell_type": "code",
   "execution_count": null,
   "metadata": {},
   "outputs": [],
   "source": []
  },
  {
   "cell_type": "markdown",
   "metadata": {},
   "source": [
    "## 1. Local Development Setup\n",
    "\n",
    "### Create a your app\n",
    "```python\n",
    "# app.py\n",
    "from fast_dash import FastDash\n",
    "\n",
    "def simple_text_to_text(input_text: str) -> str:\n",
    "    return input_text\n",
    "\n",
    "app = FastDash(simple_text_to_text)\n",
    "\n",
    "if __name__ == '__main__':\n",
    "    app.run()\n",
    "```\n",
    "\n",
    "### Create Requirements File\n",
    "```\n",
    "# requirements.txt\n",
    "fast-dash==0.2.13\n",
    "```"
   ]
  },
  {
   "cell_type": "code",
   "execution_count": null,
   "metadata": {
    "jupyter": {
     "source_hidden": true
    }
   },
   "outputs": [],
   "source": []
  },
  {
   "cell_type": "markdown",
   "metadata": {},
   "source": [
    "## 2. Dockerize the Application\n",
    "\n",
    "### Create Dockerfile\n",
    "```dockerfile\n",
    "FROM python:3.11-slim\n",
    "\n",
    "WORKDIR /app\n",
    "\n",
    "# Copy requirements first for better caching\n",
    "COPY requirements.txt .\n",
    "RUN pip install --no-cache-dir -r requirements.txt\n",
    "\n",
    "# Copy application code\n",
    "COPY . .\n",
    "\n",
    "# Expose port\n",
    "EXPOSE 5000\n",
    "\n",
    "# Run the application\n",
    "CMD [\"python\", \"app.py\"]\n",
    "```\n",
    "\n",
    "### Test Locally\n",
    "```bash\n",
    "# Build the image\n",
    "docker build -t my-app .\n",
    "\n",
    "# Run the container\n",
    "docker run -p 5000:5000 my-app\n",
    "```\n",
    "\n",
    "Visit `http://localhost:5000` to test your app."
   ]
  },
  {
   "cell_type": "code",
   "execution_count": null,
   "metadata": {},
   "outputs": [],
   "source": []
  },
  {
   "cell_type": "markdown",
   "metadata": {},
   "source": [
    "## 3. Version Control with Git\n",
    "\n",
    "### Initialize Git Repository\n",
    "```bash\n",
    "git init\n",
    "git add .\n",
    "git commit -m \"Initial commit: my app with Docker\"\n",
    "```\n",
    "\n",
    "### Push to Remote Repository\n",
    "```bash\n",
    "git remote add origin <your-repo-url>\n",
    "git push -u origin main\n",
    "```"
   ]
  },
  {
   "cell_type": "code",
   "execution_count": null,
   "metadata": {},
   "outputs": [],
   "source": []
  },
  {
   "cell_type": "markdown",
   "metadata": {},
   "source": [
    "## 4. Server Deployment\n",
    "\n",
    "### Upload Code to Server\n",
    "```bash\n",
    "# SSH into your server\n",
    "ssh user@your-server-ip\n",
    "\n",
    "# Clone your repository\n",
    "git clone <your-repo-url>\n",
    "cd your-app-directory\n",
    "```\n",
    "\n",
    "### Build and Run on Server\n",
    "```bash\n",
    "# Build the Docker image\n",
    "docker build -t my-app .\n",
    "\n",
    "# Run the container in detached mode\n",
    "docker run -d -p 80:5000 --name my-app\n",
    "```\n",
    "\n",
    "### Check Container Status\n",
    "```bash\n",
    "# List running containers\n",
    "docker ps\n",
    "\n",
    "# View logs\n",
    "docker logs my-app\n",
    "```"
   ]
  },
  {
   "cell_type": "code",
   "execution_count": null,
   "metadata": {},
   "outputs": [],
   "source": []
  },
  {
   "cell_type": "markdown",
   "metadata": {},
   "source": [
    "## Production Considerations\n",
    "\n",
    "### Security\n",
    "- Use environment variables for sensitive data\n",
    "- Configure firewall rules\n",
    "- Use HTTPS with SSL certificates\n",
    "\n",
    "### Monitoring\n",
    "- Monitor container resources\n",
    "- Container health check\n",
    "\n",
    "### Updates\n",
    "```bash\n",
    "# Pull latest code\n",
    "git pull origin main\n",
    "\n",
    "# Rebuild and redeploy\n",
    "docker build -t my-app .\n",
    "docker stop my-app\n",
    "docker rm my-app\n",
    "docker run -d -p 80:5000 --name my-app\n",
    "```"
   ]
  },
  {
   "cell_type": "code",
   "execution_count": null,
   "metadata": {},
   "outputs": [],
   "source": []
  },
  {
   "cell_type": "markdown",
   "metadata": {},
   "source": [
    "## Summary\n",
    "\n",
    "- Before building your web app, ask:\n",
    "  - Why?: Objective of the exercise\n",
    "  - What?: KPIs/metrics, insights, datasets\n",
    "  - How?: Select the correct tools\n",
    "\n",
    "- To build a complete deployment pipeline:\n",
    "\n",
    "1. **Local Development** → Create and test your app\n",
    "2. **Dockerization** → Package app with dependencies\n",
    "3. **Version Control** → Track changes with Git\n",
    "4. **Server Deployment** → Clone and run on remote server\n",
    "\n",
    "Docker ensures consistency across environments and simplifies deployment management."
   ]
  },
  {
   "cell_type": "code",
   "execution_count": null,
   "metadata": {},
   "outputs": [],
   "source": []
  }
 ],
 "metadata": {
  "kernelspec": {
   "display_name": "showyourwork",
   "language": "python",
   "name": "showyourwork"
  },
  "language_info": {
   "codemirror_mode": {
    "name": "ipython",
    "version": 3
   },
   "file_extension": ".py",
   "mimetype": "text/x-python",
   "name": "python",
   "nbconvert_exporter": "python",
   "pygments_lexer": "ipython3",
   "version": "3.13.5"
  }
 },
 "nbformat": 4,
 "nbformat_minor": 4
}
